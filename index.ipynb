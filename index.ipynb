{
 "cells": [
  {
   "cell_type": "markdown",
   "metadata": {},
   "source": [
    "# Project: Analyzing Macbeth"
   ]
  },
  {
   "cell_type": "markdown",
   "metadata": {},
   "source": [
    "## Introduction\n",
    "For our first day and first data science project, we're going to do some rudimentry analysis of Shakespeare's classic play: Macbeth! You will get practice working with lists, condtionals and dictionaries, visualizing data, and thinking analytically about data."
   ]
  },
  {
   "cell_type": "markdown",
   "metadata": {},
   "source": [
    "## Objectives\n",
    "You will be able to:\n",
    "* Show mastery of the content covered in this section"
   ]
  },
  {
   "cell_type": "markdown",
   "metadata": {},
   "source": [
    "### Getting the Data\n",
    "Here we start by importing a python package and using it to pull the transcript of Macbeth from the project Gutenberg website. We also preview a few details about what is now stored in the variable macbeth; it's a string with 119,846 characters, the first 500 of which are printed below. "
   ]
  },
  {
   "cell_type": "code",
   "execution_count": 2,
   "metadata": {},
   "outputs": [
    {
     "name": "stdout",
     "output_type": "stream",
     "text": [
      "<class 'str'>\n",
      "119846\n",
      "﻿***The Project Gutenberg's Etext of Shakespeare's First Folio***\r\n",
      "********************The Tragedie of Macbeth*********************\r\n",
      "\r\n",
      "This is our 3rd edition of most of these plays.  See the index.\r\n",
      "\r\n",
      "\r\n",
      "Copyright laws are changing all over the world, be sure to check\r\n",
      "the copyright laws for your country before posting these files!!\r\n",
      "\r\n",
      "Please take a look at the important information in this header.\r\n",
      "We encourage you to keep this file on your own disk, keeping an\r\n",
      "electronic path open for the nex\n"
     ]
    }
   ],
   "source": [
    "import requests\n",
    "macbeth = requests.get('http://www.gutenberg.org/cache/epub/2264/pg2264.txt').text\n",
    "\n",
    "print(type(macbeth))\n",
    "print(len(macbeth))\n",
    "print(macbeth[:500])"
   ]
  },
  {
   "cell_type": "markdown",
   "metadata": {},
   "source": [
    "### Your Task\n",
    "\n",
    "Your task is to create a bar graph of the 25 most common words in the Shakespeare's Macbeth.  \n",
    "\n",
    "\n",
    "A common python programming pattern to counting objects, produce histograms, or update statistics is to make calls to a dictionary as you iterate through a list. For example, given a list of words, you can create a dictionary to store counts and then iterate through the list of words, checking how many times each word has appeared using your dictionary, and updating the dictionary count now that you've seen that word again. The `dictionary.get()` method is very useful in doing this. Read the docstring for the dictionary.get() method and use it along with the pseudocode above to create a bar graph of the 25 most common words from the transcript of Macbeth which has been loaded into a variable 'Macbeth'. Be sure to include a title and appropriate labels for your graph."
   ]
  },
  {
   "cell_type": "code",
   "execution_count": 48,
   "metadata": {},
   "outputs": [
    {
     "data": {
      "image/png": "[encoded data removed]",
      "text/plain": [
       "<Figure size 1080x432 with 1 Axes>"
      ]
     },
     "metadata": {
      "needs_background": "light"
     },
     "output_type": "display_data"
    }
   ],
   "source": [
    "import requests\n",
    "import string\n",
    "import matplotlib.pyplot as pl\n",
    "%matplotlib inline\n",
    "macbeth = requests.get('http://www.gutenberg.org/cache/epub/2264/pg2264.txt').text\n",
    "\n",
    "#Imported necessary libraries, set any plots to appear inline, and got text. \n",
    "\n",
    "\n",
    "macbeth_no_punct = macbeth.translate(str.maketrans('', '', string.punctuation))\n",
    "#Remove punctuation from text.\n",
    "macbeth_np_lowercase = macbeth_no_punct.lower()\n",
    "#Make all text lowercase.\n",
    "macbeth_npl_script = macbeth_np_lowercase[15505:]\n",
    "#Reduce text to avoid introductory stuff.\n",
    "macbeth_words = macbeth_npl_script.split()\n",
    "#Split up text into words.\n",
    "macbeth_unique_words = list(set(macbeth_words))\n",
    "#Find set of unique words.\n",
    "\n",
    "\n",
    "macbeth_default_word_count = [0]*len(macbeth_unique_words)\n",
    "#Initialise word count data as list of zeros.\n",
    "macbeth_word_count_dict = dict(zip(macbeth_unique_words, macbeth_default_word_count))\n",
    "#Initialise dictionary of unique words and counts.\n",
    "\n",
    "for word in macbeth_unique_words:\n",
    "    macbeth_word_count_dict[word] = macbeth_words.count(word)\n",
    "#For each unique word, count occurences in text and set as word count value in dictionary.\n",
    "    \n",
    "    \n",
    "macbeth_word_count_dict = sorted(macbeth_word_count_dict.items(), key=lambda macbeth_word_count_dict: macbeth_word_count_dict[1], reverse=True)\n",
    "#Create a list of tuples from dictionary and sort by highest occuring words. Note: Dictionaries cannot be sorted.\n",
    "Top25 = dict(macbeth_word_count_dict[0:25])\n",
    "#Slice list of tuples for top 25 occuring words.\n",
    "\n",
    "\n",
    "x = Top25.keys()\n",
    "y = Top25.values()\n",
    "pl.figure(figsize=(15,6))\n",
    "pl.bar(x, y)\n",
    "pl.title(\"Top 25 Most Common Words in Shakespeare's Macbeth\")\n",
    "pl.ylabel('Number of Occurences')\n",
    "pl.show()\n",
    "\n",
    "#Set all formatting and plot bar graph.\n",
    "\n",
    "#                 End of code. No time for further \"level up\"s. "
   ]
  },
  {
   "cell_type": "markdown",
   "metadata": {},
   "source": [
    "### Level Up (Optional)\n",
    "This project should take you about an hour and a half to complete. If you're done much more quickly than that and are not behind in the course, feel free to deepen your knowledge by completing any or all of the following tasks until you run out of time:\n",
    "* Create a list of top characters by mentions of their names \n",
    "* Split the text by which character is talking\n",
    "* Create sub graphs of the most common words by character\n",
    "* Reduce the string to the text of the play itself. (Remove any initial notes, forward, introduction, appendix, etc.)\n",
    "* Come up with some other fun analyses of the text!"
   ]
  },
  {
   "cell_type": "markdown",
   "metadata": {},
   "source": [
    "## Summary\n",
    "Congratulations! You've got some extra practice combining various data types into useful programming patterns and done an intitial analysis of a classic text!"
   ]
  }
 ],
 "metadata": {
  "kernelspec": {
   "display_name": "learn-env",
   "language": "python",
   "name": "learn-env"
  },
  "language_info": {
   "codemirror_mode": {
    "name": "ipython",
    "version": 3
   },
   "file_extension": ".py",
   "mimetype": "text/x-python",
   "name": "python",
   "nbconvert_exporter": "python",
   "pygments_lexer": "ipython3",
   "version": "3.6.6"
  }
 },
 "nbformat": 4,
 "nbformat_minor": 2
}
